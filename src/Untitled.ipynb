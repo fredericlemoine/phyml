{
 "cells": [
  {
   "cell_type": "code",
   "execution_count": 4,
   "id": "0586fc97",
   "metadata": {},
   "outputs": [
    {
     "data": {
      "text/latex": [
       "$\\displaystyle \\frac{e^{g x}}{g} - \\frac{1}{g}$"
      ],
      "text/plain": [
       "exp(g*x)/g - 1/g"
      ]
     },
     "execution_count": 4,
     "metadata": {},
     "output_type": "execute_result"
    }
   ],
   "source": [
    "from sympy import *\n",
    "g = Symbol('g',positive=True)\n",
    "t = Symbol('t')\n",
    "x = Symbol('x',positive=True)\n",
    "integrate(exp(g*t), (t,0,x))\n"
   ]
  },
  {
   "cell_type": "code",
   "execution_count": 6,
   "id": "d099d580",
   "metadata": {},
   "outputs": [
    {
     "data": {
      "text/latex": [
       "$\\displaystyle \\frac{g e^{- g \\left(- t + x\\right)}}{\\left(1 + e^{- g \\left(- t + x\\right)}\\right)^{2}}$"
      ],
      "text/plain": [
       "g*exp(-g*(-t + x))/(1 + exp(-g*(-t + x)))**2"
      ]
     },
     "execution_count": 6,
     "metadata": {},
     "output_type": "execute_result"
    }
   ],
   "source": [
    "diff(1/(1+exp(-g*(x-t))),x)"
   ]
  },
  {
   "cell_type": "code",
   "execution_count": null,
   "id": "8ca60019",
   "metadata": {},
   "outputs": [],
   "source": []
  }
 ],
 "metadata": {
  "kernelspec": {
   "display_name": "Python 3 (ipykernel)",
   "language": "python",
   "name": "python3"
  },
  "language_info": {
   "codemirror_mode": {
    "name": "ipython",
    "version": 3
   },
   "file_extension": ".py",
   "mimetype": "text/x-python",
   "name": "python",
   "nbconvert_exporter": "python",
   "pygments_lexer": "ipython3",
   "version": "3.11.10"
  }
 },
 "nbformat": 4,
 "nbformat_minor": 5
}
